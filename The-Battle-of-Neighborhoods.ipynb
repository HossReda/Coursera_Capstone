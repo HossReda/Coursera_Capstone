{
    "cells": [
        {
            "cell_type": "markdown",
            "metadata": {
                "collapsed": true
            },
            "source": "# The Battle of Neighborhoods  \nHow to move to neighborhood that feels like home!  \n  \n## Introduction  \nDifferent cities have very different neighborhoods that are filled of cultures, habits and types of people. In today's world, relocation is no longer an option; it is a necessity in pursuing a great career. Changing your home environment is not as easy as moving your furniture there is a lot more to leave such as neighbors, people and most importantly the culture of your environment.  \n  \n## Problem Description  \nThe question that arises here is _\"how to make such a big change in your life less troublesome?\"_ or in a more elegant way  \n__\"How to move to neighborhood that feels like home!\"__  \n  \nThe answer introduced here relies on a very simple yet powerful idea, _how do neighborhoods express there environment?_  \nIn most cases you can tell the culture of a neighborhood from it is venues. A neighborhood full of chinese restaurants is probably a chinese neighborhood, another that has lots of museums is more like an ancient culture neighborhood.  \n  \nThe idea here is to let neighborhoods express themselves by exploring every neighborhood's venues\n\n## Data Sources  \n#### New York Sources:  \n* [Demographic Data from NYC open data](https://data.cityofnewyork.us/City-Government/Census-Demographics-at-the-Neighborhood-Tabulation/rnsn-acs2)  \n* [NTA Mapping for Neiborhoods](https://www1.nyc.gov/site/planning/data-maps/open-data/dwn-nynta.page)  \n  \n#### Toronto Sources:  \n[Demographic Data from Toronto open data](https://open.toronto.ca/dataset/wellbeing-toronto-demographics/)  \n  \n#### Venues Sources:  \n[Foursquare API](https://foursquare.com/)  \n  \n## Solution Idea  \nDemographic data of all neighborhoods can be used to cluster neighborhoods within Toronto city adding to that different types of venues; a good model of how the neighborhood environment feel can be captured and used to get the features of every cluster of neighborhoods. Clusters then will be used to classify different neighborhoods of New York; Thus creating a mapping between the two cities that can help people moving to find their home neighborhood in a another continent!"
        },
        {
            "cell_type": "code",
            "execution_count": null,
            "metadata": {},
            "outputs": [],
            "source": ""
        }
    ],
    "metadata": {
        "kernelspec": {
            "display_name": "Python 3.6",
            "language": "python",
            "name": "python3"
        },
        "language_info": {
            "codemirror_mode": {
                "name": "ipython",
                "version": 3
            },
            "file_extension": ".py",
            "mimetype": "text/x-python",
            "name": "python",
            "nbconvert_exporter": "python",
            "pygments_lexer": "ipython3",
            "version": "3.6.9"
        }
    },
    "nbformat": 4,
    "nbformat_minor": 1
}